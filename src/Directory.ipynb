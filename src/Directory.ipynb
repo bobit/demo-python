{
 "cells": [
  {
   "cell_type": "code",
   "execution_count": 22,
   "metadata": {},
   "outputs": [
    {
     "ename": "SyntaxError",
     "evalue": "(unicode error) 'unicodeescape' codec can't decode bytes in position 2-3: truncated \\UXXXXXXXX escape (<ipython-input-22-8eb609fbd110>, line 19)",
     "output_type": "error",
     "traceback": [
      "\u001b[1;36m  File \u001b[1;32m\"<ipython-input-22-8eb609fbd110>\"\u001b[1;36m, line \u001b[1;32m19\u001b[0m\n\u001b[1;33m    for dirpath, dirnames, filenames in os.walk('E:\\Users\\zhangb\\Desktop'):\u001b[0m\n\u001b[1;37m                                               ^\u001b[0m\n\u001b[1;31mSyntaxError\u001b[0m\u001b[1;31m:\u001b[0m (unicode error) 'unicodeescape' codec can't decode bytes in position 2-3: truncated \\UXXXXXXXX escape\n"
     ]
    }
   ],
   "source": [
    "#方法1：使用os.listdir\n",
    "import os\n",
    "for filename in os.listdir(r'E:\\Users\\zhangb\\Desktop'):\n",
    "    print (filename)\n",
    " \n",
    "#方法2：使用glob模块，可以设置文件过滤\n",
    "import glob\n",
    "for filename in glob.glob(r'E:\\Users\\zhangb\\Desktop\\*.exe'):\n",
    "    print (filename)\n",
    " \n",
    "#方法3：通过os.path.walk递归遍历，可以访问子文件夹\n",
    "\n",
    "#方法4：非递归"
   ]
  },
  {
   "cell_type": "code",
   "execution_count": null,
   "metadata": {
    "slideshow": {
     "slide_type": "-"
    }
   },
   "outputs": [],
   "source": []
  },
  {
   "cell_type": "code",
   "execution_count": null,
   "metadata": {},
   "outputs": [],
   "source": []
  }
 ],
 "metadata": {
  "kernelspec": {
   "display_name": "Python 3",
   "language": "python",
   "name": "python3"
  },
  "language_info": {
   "codemirror_mode": {
    "name": "ipython",
    "version": 3
   },
   "file_extension": ".py",
   "mimetype": "text/x-python",
   "name": "python",
   "nbconvert_exporter": "python",
   "pygments_lexer": "ipython3",
   "version": "3.7.0"
  }
 },
 "nbformat": 4,
 "nbformat_minor": 2
}
